{
 "cells": [
  {
   "cell_type": "code",
   "execution_count": 0,
   "metadata": {
    "colab": {},
    "colab_type": "code",
    "id": "AZ2WadBmnm5H"
   },
   "outputs": [],
   "source": [
    "#import data (test CSV)\n",
    "from google.colab import drive\n",
    "drive.mount('/content/drive')"
   ]
  },
  {
   "cell_type": "code",
   "execution_count": 0,
   "metadata": {
    "colab": {},
    "colab_type": "code",
    "id": "a_dVGD5sn2k2"
   },
   "outputs": [],
   "source": [
    " #cd (change directory) to the file/folder location\n"
   ]
  },
  {
   "cell_type": "code",
   "execution_count": 2,
   "metadata": {},
   "outputs": [
    {
     "name": "stdout",
     "output_type": "stream",
     "text": [
      "Defaulting to user installation because normal site-packages is not writeable\n",
      "Collecting apyori\n",
      "  Downloading apyori-1.1.2.tar.gz (8.6 kB)\n",
      "Building wheels for collected packages: apyori\n",
      "  Building wheel for apyori (setup.py): started\n",
      "  Building wheel for apyori (setup.py): finished with status 'done'\n",
      "  Created wheel for apyori: filename=apyori-1.1.2-py3-none-any.whl size=5975 sha256=34e89bbb8ec643c0b61ac85cffde051471121df94cce26ef58d6dc71c2356299\n",
      "  Stored in directory: c:\\users\\317705\\appdata\\local\\pip\\cache\\wheels\\32\\2a\\54\\10c595515f385f3726642b10c60bf788029e8f3a1323e3913a\n",
      "Successfully built apyori\n",
      "Installing collected packages: apyori\n",
      "Successfully installed apyori-1.1.2\n"
     ]
    }
   ],
   "source": [
    "!pip install apyori"
   ]
  },
  {
   "cell_type": "code",
   "execution_count": 3,
   "metadata": {
    "colab": {},
    "colab_type": "code",
    "id": "Ae2iFe3Rn2iO"
   },
   "outputs": [
    {
     "name": "stdout",
     "output_type": "stream",
     "text": [
      "(7501, 20)\n",
      "7501\n",
      "20\n",
      "0.0027996267164378083\n",
      "[RelationRecord(items=frozenset({'chicken', 'light cream'}), support=0.004532728969470737, ordered_statistics=[OrderedStatistic(items_base=frozenset({'light cream'}), items_add=frozenset({'chicken'}), confidence=0.29059829059829057, lift=4.84395061728395)]), RelationRecord(items=frozenset({'escalope', 'mushroom cream sauce'}), support=0.005732568990801226, ordered_statistics=[OrderedStatistic(items_base=frozenset({'mushroom cream sauce'}), items_add=frozenset({'escalope'}), confidence=0.3006993006993007, lift=3.790832696715049)]), RelationRecord(items=frozenset({'pasta', 'escalope'}), support=0.005865884548726837, ordered_statistics=[OrderedStatistic(items_base=frozenset({'pasta'}), items_add=frozenset({'escalope'}), confidence=0.3728813559322034, lift=4.700811850163794)]), RelationRecord(items=frozenset({'fromage blanc', 'honey'}), support=0.003332888948140248, ordered_statistics=[OrderedStatistic(items_base=frozenset({'fromage blanc'}), items_add=frozenset({'honey'}), confidence=0.2450980392156863, lift=5.164270764485569)]), RelationRecord(items=frozenset({'herb & pepper', 'ground beef'}), support=0.015997866951073192, ordered_statistics=[OrderedStatistic(items_base=frozenset({'herb & pepper'}), items_add=frozenset({'ground beef'}), confidence=0.3234501347708895, lift=3.2919938411349285)]), RelationRecord(items=frozenset({'tomato sauce', 'ground beef'}), support=0.005332622317024397, ordered_statistics=[OrderedStatistic(items_base=frozenset({'tomato sauce'}), items_add=frozenset({'ground beef'}), confidence=0.3773584905660377, lift=3.840659481324083)]), RelationRecord(items=frozenset({'olive oil', 'light cream'}), support=0.003199573390214638, ordered_statistics=[OrderedStatistic(items_base=frozenset({'light cream'}), items_add=frozenset({'olive oil'}), confidence=0.20512820512820515, lift=3.1147098515519573)]), RelationRecord(items=frozenset({'olive oil', 'whole wheat pasta'}), support=0.007998933475536596, ordered_statistics=[OrderedStatistic(items_base=frozenset({'whole wheat pasta'}), items_add=frozenset({'olive oil'}), confidence=0.2714932126696833, lift=4.122410097642296)]), RelationRecord(items=frozenset({'pasta', 'shrimp'}), support=0.005065991201173177, ordered_statistics=[OrderedStatistic(items_base=frozenset({'pasta'}), items_add=frozenset({'shrimp'}), confidence=0.3220338983050847, lift=4.506672147735896)])]\n"
     ]
    }
   ],
   "source": [
    "# Apriori\n",
    "\n",
    "# Importing the libraries\n",
    "import numpy as np\n",
    "import matplotlib.pyplot as plt\n",
    "import pandas as pd\n",
    "\n",
    "# Data Preprocessing\n",
    "dataset = pd.read_csv('Market_Basket_Optimisation.csv', header = None)\n",
    "print(dataset.shape)\n",
    "count_row = dataset.shape[0]  # Gives number of rows\n",
    "print(count_row)\n",
    "count_col = dataset.shape[1]  # Gives number of columns\n",
    "print(count_col)\n",
    "\n",
    "transactions = []\n",
    "for i in range(0, count_row):\n",
    "    transactions.append([str(dataset.values[i,j]) for j in range(0, count_col)])\n",
    "#print(transactions)\n",
    "\n",
    "# Training Apriori on the dataset\n",
    "min_lift = 3 # minimum transactions per day\n",
    "min_support = (min_lift*7)/count_row # considering atleast 3 transactions per day so for week 3*7\n",
    "print(min_support)\n",
    "\n",
    "min_confidence= 0.2\n",
    "\n",
    "\n",
    "from apyori import apriori\n",
    "rules = apriori(transactions, min_support = 0.003, min_confidence = 0.2, min_lift = 3, min_length = 2, max_length = 2)\n",
    "\n",
    "# Visualising the results\n",
    "results = list(rules)\n",
    "print (results)"
   ]
  },
  {
   "cell_type": "code",
   "execution_count": 15,
   "metadata": {},
   "outputs": [],
   "source": [
    "df = pd.DataFrame(columns=('Items','Antecedent','Consequent','Support','Confidence','Lift'))\n",
    "\n",
    "Support =[]\n",
    "Confidence = []\n",
    "Lift = []\n",
    "Items = []\n",
    "Antecedent = []\n",
    "Consequent=[]\n",
    "\n",
    "for RelationRecord in results:\n",
    "    for ordered_stat in RelationRecord.ordered_statistics:\n",
    "        Support.append(RelationRecord.support)\n",
    "        Items.append(RelationRecord.items)\n",
    "        Antecedent.append(ordered_stat.items_base)\n",
    "        Consequent.append(ordered_stat.items_add)\n",
    "        Confidence.append(ordered_stat.confidence)\n",
    "        Lift.append(ordered_stat.lift)\n",
    "\n",
    "df['Items'] = Items                                \n",
    "df['Antecedent'] = Antecedent\n",
    "df['Consequent'] = Consequent\n",
    "df['Support'] = Support\n",
    "df['Confidence'] = Confidence\n",
    "df['Lift']= Lift"
   ]
  },
  {
   "cell_type": "code",
   "execution_count": 16,
   "metadata": {},
   "outputs": [
    {
     "data": {
      "text/html": [
       "<div>\n",
       "<style scoped>\n",
       "    .dataframe tbody tr th:only-of-type {\n",
       "        vertical-align: middle;\n",
       "    }\n",
       "\n",
       "    .dataframe tbody tr th {\n",
       "        vertical-align: top;\n",
       "    }\n",
       "\n",
       "    .dataframe thead th {\n",
       "        text-align: right;\n",
       "    }\n",
       "</style>\n",
       "<table border=\"1\" class=\"dataframe\">\n",
       "  <thead>\n",
       "    <tr style=\"text-align: right;\">\n",
       "      <th></th>\n",
       "      <th>Items</th>\n",
       "      <th>Antecedent</th>\n",
       "      <th>Consequent</th>\n",
       "      <th>Support</th>\n",
       "      <th>Confidence</th>\n",
       "      <th>Lift</th>\n",
       "    </tr>\n",
       "  </thead>\n",
       "  <tbody>\n",
       "    <tr>\n",
       "      <th>3</th>\n",
       "      <td>(fromage blanc, honey)</td>\n",
       "      <td>(fromage blanc)</td>\n",
       "      <td>(honey)</td>\n",
       "      <td>0.003333</td>\n",
       "      <td>0.245098</td>\n",
       "      <td>5.164271</td>\n",
       "    </tr>\n",
       "    <tr>\n",
       "      <th>0</th>\n",
       "      <td>(chicken, light cream)</td>\n",
       "      <td>(light cream)</td>\n",
       "      <td>(chicken)</td>\n",
       "      <td>0.004533</td>\n",
       "      <td>0.290598</td>\n",
       "      <td>4.843951</td>\n",
       "    </tr>\n",
       "    <tr>\n",
       "      <th>2</th>\n",
       "      <td>(pasta, escalope)</td>\n",
       "      <td>(pasta)</td>\n",
       "      <td>(escalope)</td>\n",
       "      <td>0.005866</td>\n",
       "      <td>0.372881</td>\n",
       "      <td>4.700812</td>\n",
       "    </tr>\n",
       "    <tr>\n",
       "      <th>8</th>\n",
       "      <td>(pasta, shrimp)</td>\n",
       "      <td>(pasta)</td>\n",
       "      <td>(shrimp)</td>\n",
       "      <td>0.005066</td>\n",
       "      <td>0.322034</td>\n",
       "      <td>4.506672</td>\n",
       "    </tr>\n",
       "    <tr>\n",
       "      <th>7</th>\n",
       "      <td>(olive oil, whole wheat pasta)</td>\n",
       "      <td>(whole wheat pasta)</td>\n",
       "      <td>(olive oil)</td>\n",
       "      <td>0.007999</td>\n",
       "      <td>0.271493</td>\n",
       "      <td>4.122410</td>\n",
       "    </tr>\n",
       "    <tr>\n",
       "      <th>5</th>\n",
       "      <td>(tomato sauce, ground beef)</td>\n",
       "      <td>(tomato sauce)</td>\n",
       "      <td>(ground beef)</td>\n",
       "      <td>0.005333</td>\n",
       "      <td>0.377358</td>\n",
       "      <td>3.840659</td>\n",
       "    </tr>\n",
       "    <tr>\n",
       "      <th>1</th>\n",
       "      <td>(escalope, mushroom cream sauce)</td>\n",
       "      <td>(mushroom cream sauce)</td>\n",
       "      <td>(escalope)</td>\n",
       "      <td>0.005733</td>\n",
       "      <td>0.300699</td>\n",
       "      <td>3.790833</td>\n",
       "    </tr>\n",
       "    <tr>\n",
       "      <th>4</th>\n",
       "      <td>(herb &amp; pepper, ground beef)</td>\n",
       "      <td>(herb &amp; pepper)</td>\n",
       "      <td>(ground beef)</td>\n",
       "      <td>0.015998</td>\n",
       "      <td>0.323450</td>\n",
       "      <td>3.291994</td>\n",
       "    </tr>\n",
       "    <tr>\n",
       "      <th>6</th>\n",
       "      <td>(olive oil, light cream)</td>\n",
       "      <td>(light cream)</td>\n",
       "      <td>(olive oil)</td>\n",
       "      <td>0.003200</td>\n",
       "      <td>0.205128</td>\n",
       "      <td>3.114710</td>\n",
       "    </tr>\n",
       "  </tbody>\n",
       "</table>\n",
       "</div>"
      ],
      "text/plain": [
       "                              Items              Antecedent     Consequent  \\\n",
       "3            (fromage blanc, honey)         (fromage blanc)        (honey)   \n",
       "0            (chicken, light cream)           (light cream)      (chicken)   \n",
       "2                 (pasta, escalope)                 (pasta)     (escalope)   \n",
       "8                   (pasta, shrimp)                 (pasta)       (shrimp)   \n",
       "7    (olive oil, whole wheat pasta)     (whole wheat pasta)    (olive oil)   \n",
       "5       (tomato sauce, ground beef)          (tomato sauce)  (ground beef)   \n",
       "1  (escalope, mushroom cream sauce)  (mushroom cream sauce)     (escalope)   \n",
       "4      (herb & pepper, ground beef)         (herb & pepper)  (ground beef)   \n",
       "6          (olive oil, light cream)           (light cream)    (olive oil)   \n",
       "\n",
       "    Support  Confidence      Lift  \n",
       "3  0.003333    0.245098  5.164271  \n",
       "0  0.004533    0.290598  4.843951  \n",
       "2  0.005866    0.372881  4.700812  \n",
       "8  0.005066    0.322034  4.506672  \n",
       "7  0.007999    0.271493  4.122410  \n",
       "5  0.005333    0.377358  3.840659  \n",
       "1  0.005733    0.300699  3.790833  \n",
       "4  0.015998    0.323450  3.291994  \n",
       "6  0.003200    0.205128  3.114710  "
      ]
     },
     "execution_count": 16,
     "metadata": {},
     "output_type": "execute_result"
    }
   ],
   "source": [
    "df.sort_values(by ='Lift', ascending = False, inplace = True)\n",
    "df"
   ]
  },
  {
   "cell_type": "code",
   "execution_count": null,
   "metadata": {},
   "outputs": [],
   "source": []
  }
 ],
 "metadata": {
  "colab": {
   "collapsed_sections": [],
   "name": "Apriori_Colab.ipynb",
   "provenance": []
  },
  "kernelspec": {
   "display_name": "Python 3",
   "language": "python",
   "name": "python3"
  },
  "language_info": {
   "codemirror_mode": {
    "name": "ipython",
    "version": 3
   },
   "file_extension": ".py",
   "mimetype": "text/x-python",
   "name": "python",
   "nbconvert_exporter": "python",
   "pygments_lexer": "ipython3",
   "version": "3.9.1"
  }
 },
 "nbformat": 4,
 "nbformat_minor": 1
}
